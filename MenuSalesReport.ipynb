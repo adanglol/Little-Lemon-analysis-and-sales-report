{
 "cells": [
  {
   "cell_type": "code",
   "execution_count": null,
   "id": "ac9d3cd2-5111-4ee5-bfee-bbf686d3370b",
   "metadata": {},
   "outputs": [],
   "source": [
    "import os \n",
    "from dotenv import load_dotenv\n",
    "load_dotenv()"
   ]
  },
  {
   "cell_type": "code",
   "execution_count": null,
   "id": "d4d93e64-7e1a-4e40-9c93-88d6de3415a5",
   "metadata": {},
   "outputs": [],
   "source": [
    "# fetchall must be called after running execute to get results of query need iterate over fetch all to get data you want\n",
    "# list of tuples \n",
    "#[(,,,),... get idea]"
   ]
  },
  {
   "cell_type": "code",
   "execution_count": 34,
   "id": "d5cc227e-9a0b-4083-890b-39f4644793be",
   "metadata": {},
   "outputs": [
    {
     "name": "stdout",
     "output_type": "stream",
     "text": [
      "adanglol\n",
      "Connection pool 'pool_a' created successfully.\n",
      "connection obtained from pool\n",
      "active connection\n",
      "cursor obj created\n"
     ]
    }
   ],
   "source": [
    "# Establishing a connectionpool\n",
    "\n",
    "from mysql.connector.pooling import MySQLConnectionPool\n",
    "from mysql.connector.errors import Error\n",
    "\n",
    "user = os.getenv('USERNAME')\n",
    "pw = os.getenv('PASSWORD')\n",
    "\n",
    "dbconfig={\"database\":\"little_lemon_db\", \"user\":user, \"password\":pw}\n",
    "print (dbconfig['user'])\n",
    "\n",
    "# Creating connection pool with two connections\n",
    "try:\n",
    "    pool_a = MySQLConnectionPool(\n",
    "        pool_name='little_lemon_pool',\n",
    "        pool_size=2,\n",
    "        host='localhost',\n",
    "        database='little_lemon_db',\n",
    "        user=user,\n",
    "        password=pw)\n",
    "    print(\"Connection pool 'pool_a' created successfully.\")\n",
    "except Error as e:\n",
    "    print(f\"An error occurred while creating the connection pool: {e}\")\n",
    "\n",
    "# Obtain connection from pool_a create cursor object to communicate wiht db\n",
    "\n",
    "try:\n",
    "    connection = pool_a.get_connection()\n",
    "    print(\"connection obtained from pool\")\n",
    "    if connection.is_connected():\n",
    "        print('active connection')\n",
    "        cursor = connection.cursor()\n",
    "        print('cursor obj created')\n",
    "except Error as e:\n",
    "    print(f\"An error occurred while obtaining a connection or executing a query: {e}\")    "
   ]
  },
  {
   "cell_type": "code",
   "execution_count": null,
   "id": "7bda64d7-f2c0-4f36-9d5c-8ccdac7daff8",
   "metadata": {},
   "outputs": [],
   "source": [
    "# Now that we created cursor now we implement stored procedure called PeakHours to check peak hours for little lemonn\n",
    "# As well as for guest status \n",
    "\n",
    "peak_hours_proc = \"\"\"\n",
    "CREATE PROCEDURE PeakHours()\n",
    "BEGIN\n",
    "    SELECT \n",
    "        HOUR(BookingSlot) AS BookingHour,\n",
    "        COUNT(*) AS NumberOfBookings\n",
    "    FROM bookings\n",
    "    GROUP BY\n",
    "        BookingHour\n",
    "    ORDER BY\n",
    "        NumberOfBookings DESC;\n",
    "END\n",
    "\"\"\"\n",
    "\n",
    "\n",
    "guest_status_proc=\"\"\"\n",
    "CREATE PROCEDURE GuestStatus()\n",
    "BEGIN\n",
    "    SELECT \n",
    "        CONCAT(GuestFirstName,' ',GuestLastName) AS FullName,\n",
    "        CASE\n",
    "            WHEN e.Role IN ('Manager','Assistant Manager') THEN 'Ready to pay'\n",
    "            WHEN e.Role = 'Head Chef' THEN 'Ready to serve'\n",
    "            WHEN e.Role = 'Assistant Chef' THEN 'Preparing Order'\n",
    "            WHEN e.Role = 'Head Waiter' THEN 'Order served'\n",
    "            ELSE 'Unknown Status'\n",
    "        END AS OrderStatus\n",
    "    FROM \n",
    "        bookings b\n",
    "    LEFT JOIN\n",
    "        employees e ON b.EmployeeID = e.EmployeeID;\n",
    "END\n",
    "\"\"\""
   ]
  },
  {
   "cell_type": "code",
   "execution_count": null,
   "id": "96799ac6-475c-40ed-a6e3-1138818dcd5a",
   "metadata": {},
   "outputs": [],
   "source": [
    "# TO ADD OUR PROCEDURES TO OUR DB\n",
    "try:\n",
    "    cursor.execute(peak_hours_proc)\n",
    "    cursor.execute(guest_status_proc)\n",
    "    print('Peak Hours and Guest Status procs been added successsfully!')\n",
    "except Error as e:\n",
    "    print(f\"An error occured creating procedures: {e}\")"
   ]
  },
  {
   "cell_type": "code",
   "execution_count": 35,
   "id": "6364154c-013a-4eeb-8734-d0499ce1a399",
   "metadata": {},
   "outputs": [
    {
     "name": "stdout",
     "output_type": "stream",
     "text": [
      "Peak Hours Data:\n",
      "Booking Hour: 19, Number of Bookings: 2\n",
      "Booking Hour: 15, Number of Bookings: 1\n",
      "Booking Hour: 17, Number of Bookings: 1\n",
      "Booking Hour: 18, Number of Bookings: 1\n",
      "Booking Hour: 20, Number of Bookings: 1\n",
      "Guest Status Data:\n",
      "Guest: Anna Iversen, Status: Ready to pay\n",
      "Guest: Joakim Iversen, Status: Ready to pay\n",
      "Guest: Vanessa McCarthy, Status: Ready to serve\n",
      "Guest: Marcos Romero, Status: Preparing Order\n",
      "Guest: Hiroki Yamane, Status: Ready to pay\n",
      "Guest: Diana Pinto, Status: Order served\n",
      "Successfully called procs and accessed data\n"
     ]
    }
   ],
   "source": [
    "# CALL PROCEDURES AND PROCESS DATA\n",
    "try:\n",
    "    # Call the first stored procedure (PeakHours)\n",
    "    cursor.execute(\"CALL PeakHours();\")\n",
    "    \n",
    "    # Fetch the result of the first stored procedure\n",
    "    peak_hours_data = cursor.fetchall()\n",
    "    \n",
    "    print(\"Peak Hours Data:\")\n",
    "    # Loop through each record from PeakHours result\n",
    "    for row in peak_hours_data:\n",
    "        # Assuming the result contains two columns: BookingHour and NumberOfBookings\n",
    "        print(f\"Booking Hour: {row[0]}, Number of Bookings: {row[1]}\")\n",
    "        \n",
    "    # Explicitly close the first result set to ensure synchronization\n",
    "    while cursor.nextset():\n",
    "        pass  # Close any additional result sets if present\n",
    "\n",
    "    # Call the second stored procedure (GuestStatus)\n",
    "    cursor.execute(\"CALL GuestStatus();\")\n",
    "    \n",
    "    # Fetch the result of the second stored procedure\n",
    "    guest_status_data = cursor.fetchall()\n",
    "    \n",
    "    print(\"Guest Status Data:\")\n",
    "    # Loop through each record from GuestStatus result\n",
    "    for row in guest_status_data:\n",
    "        # Assuming the result contains the guest's name and status\n",
    "        print(f\"Guest: {row[0]}, Status: {row[1]}\")\n",
    "\n",
    "    print('Successfully called procs and accessed data')\n",
    "except Error as e:\n",
    "    print(f\"An error occurred while calling the procedures: {e}\")"
   ]
  },
  {
   "cell_type": "code",
   "execution_count": null,
   "id": "f22a8a86-d919-469b-bfb5-be1fbb65f456",
   "metadata": {},
   "outputs": [],
   "source": []
  }
 ],
 "metadata": {
  "kernelspec": {
   "display_name": "Python 3 (ipykernel)",
   "language": "python",
   "name": "python3"
  },
  "language_info": {
   "codemirror_mode": {
    "name": "ipython",
    "version": 3
   },
   "file_extension": ".py",
   "mimetype": "text/x-python",
   "name": "python",
   "nbconvert_exporter": "python",
   "pygments_lexer": "ipython3",
   "version": "3.12.4"
  }
 },
 "nbformat": 4,
 "nbformat_minor": 5
}
